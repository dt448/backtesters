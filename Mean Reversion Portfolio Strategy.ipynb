{
 "cells": [
  {
   "cell_type": "code",
   "execution_count": 33,
   "metadata": {},
   "outputs": [],
   "source": [
    "import yfinance as yf\n",
    "import pandas as pd\n",
    "import numpy as np\n",
    "import ta\n",
    "import matplotlib.pyplot as plt"
   ]
  },
  {
   "cell_type": "code",
   "execution_count": 55,
   "metadata": {},
   "outputs": [
    {
     "name": "stdout",
     "output_type": "stream",
     "text": [
      "[*********************100%***********************]  1 of 1 completed\n"
     ]
    }
   ],
   "source": [
    "df = yf.download('AAPL', start = '2019-01-01', end = '2022-09-01')"
   ]
  },
  {
   "cell_type": "code",
   "execution_count": 56,
   "metadata": {},
   "outputs": [
    {
     "data": {
      "text/html": [
       "<div>\n",
       "<style scoped>\n",
       "    .dataframe tbody tr th:only-of-type {\n",
       "        vertical-align: middle;\n",
       "    }\n",
       "\n",
       "    .dataframe tbody tr th {\n",
       "        vertical-align: top;\n",
       "    }\n",
       "\n",
       "    .dataframe thead th {\n",
       "        text-align: right;\n",
       "    }\n",
       "</style>\n",
       "<table border=\"1\" class=\"dataframe\">\n",
       "  <thead>\n",
       "    <tr style=\"text-align: right;\">\n",
       "      <th></th>\n",
       "      <th>Open</th>\n",
       "      <th>High</th>\n",
       "      <th>Low</th>\n",
       "      <th>Close</th>\n",
       "      <th>Adj Close</th>\n",
       "      <th>Volume</th>\n",
       "    </tr>\n",
       "    <tr>\n",
       "      <th>Date</th>\n",
       "      <th></th>\n",
       "      <th></th>\n",
       "      <th></th>\n",
       "      <th></th>\n",
       "      <th></th>\n",
       "      <th></th>\n",
       "    </tr>\n",
       "  </thead>\n",
       "  <tbody>\n",
       "    <tr>\n",
       "      <th>2019-01-02</th>\n",
       "      <td>38.722500</td>\n",
       "      <td>39.712502</td>\n",
       "      <td>38.557499</td>\n",
       "      <td>39.480000</td>\n",
       "      <td>38.105133</td>\n",
       "      <td>148158800</td>\n",
       "    </tr>\n",
       "    <tr>\n",
       "      <th>2019-01-03</th>\n",
       "      <td>35.994999</td>\n",
       "      <td>36.430000</td>\n",
       "      <td>35.500000</td>\n",
       "      <td>35.547501</td>\n",
       "      <td>34.309578</td>\n",
       "      <td>365248800</td>\n",
       "    </tr>\n",
       "    <tr>\n",
       "      <th>2019-01-04</th>\n",
       "      <td>36.132500</td>\n",
       "      <td>37.137501</td>\n",
       "      <td>35.950001</td>\n",
       "      <td>37.064999</td>\n",
       "      <td>35.774246</td>\n",
       "      <td>234428400</td>\n",
       "    </tr>\n",
       "    <tr>\n",
       "      <th>2019-01-07</th>\n",
       "      <td>37.174999</td>\n",
       "      <td>37.207500</td>\n",
       "      <td>36.474998</td>\n",
       "      <td>36.982498</td>\n",
       "      <td>35.694607</td>\n",
       "      <td>219111200</td>\n",
       "    </tr>\n",
       "    <tr>\n",
       "      <th>2019-01-08</th>\n",
       "      <td>37.389999</td>\n",
       "      <td>37.955002</td>\n",
       "      <td>37.130001</td>\n",
       "      <td>37.687500</td>\n",
       "      <td>36.375057</td>\n",
       "      <td>164101200</td>\n",
       "    </tr>\n",
       "    <tr>\n",
       "      <th>...</th>\n",
       "      <td>...</td>\n",
       "      <td>...</td>\n",
       "      <td>...</td>\n",
       "      <td>...</td>\n",
       "      <td>...</td>\n",
       "      <td>...</td>\n",
       "    </tr>\n",
       "    <tr>\n",
       "      <th>2022-08-25</th>\n",
       "      <td>168.779999</td>\n",
       "      <td>170.139999</td>\n",
       "      <td>168.350006</td>\n",
       "      <td>170.029999</td>\n",
       "      <td>169.748413</td>\n",
       "      <td>51218200</td>\n",
       "    </tr>\n",
       "    <tr>\n",
       "      <th>2022-08-26</th>\n",
       "      <td>170.570007</td>\n",
       "      <td>171.050003</td>\n",
       "      <td>163.559998</td>\n",
       "      <td>163.619995</td>\n",
       "      <td>163.349014</td>\n",
       "      <td>78961000</td>\n",
       "    </tr>\n",
       "    <tr>\n",
       "      <th>2022-08-29</th>\n",
       "      <td>161.149994</td>\n",
       "      <td>162.899994</td>\n",
       "      <td>159.820007</td>\n",
       "      <td>161.380005</td>\n",
       "      <td>161.112747</td>\n",
       "      <td>73314000</td>\n",
       "    </tr>\n",
       "    <tr>\n",
       "      <th>2022-08-30</th>\n",
       "      <td>162.130005</td>\n",
       "      <td>162.559998</td>\n",
       "      <td>157.720001</td>\n",
       "      <td>158.910004</td>\n",
       "      <td>158.646835</td>\n",
       "      <td>77906200</td>\n",
       "    </tr>\n",
       "    <tr>\n",
       "      <th>2022-08-31</th>\n",
       "      <td>160.309998</td>\n",
       "      <td>160.580002</td>\n",
       "      <td>157.139999</td>\n",
       "      <td>157.220001</td>\n",
       "      <td>156.959625</td>\n",
       "      <td>87991100</td>\n",
       "    </tr>\n",
       "  </tbody>\n",
       "</table>\n",
       "<p>924 rows × 6 columns</p>\n",
       "</div>"
      ],
      "text/plain": [
       "                  Open        High         Low       Close   Adj Close  \\\n",
       "Date                                                                     \n",
       "2019-01-02   38.722500   39.712502   38.557499   39.480000   38.105133   \n",
       "2019-01-03   35.994999   36.430000   35.500000   35.547501   34.309578   \n",
       "2019-01-04   36.132500   37.137501   35.950001   37.064999   35.774246   \n",
       "2019-01-07   37.174999   37.207500   36.474998   36.982498   35.694607   \n",
       "2019-01-08   37.389999   37.955002   37.130001   37.687500   36.375057   \n",
       "...                ...         ...         ...         ...         ...   \n",
       "2022-08-25  168.779999  170.139999  168.350006  170.029999  169.748413   \n",
       "2022-08-26  170.570007  171.050003  163.559998  163.619995  163.349014   \n",
       "2022-08-29  161.149994  162.899994  159.820007  161.380005  161.112747   \n",
       "2022-08-30  162.130005  162.559998  157.720001  158.910004  158.646835   \n",
       "2022-08-31  160.309998  160.580002  157.139999  157.220001  156.959625   \n",
       "\n",
       "               Volume  \n",
       "Date                   \n",
       "2019-01-02  148158800  \n",
       "2019-01-03  365248800  \n",
       "2019-01-04  234428400  \n",
       "2019-01-07  219111200  \n",
       "2019-01-08  164101200  \n",
       "...               ...  \n",
       "2022-08-25   51218200  \n",
       "2022-08-26   78961000  \n",
       "2022-08-29   73314000  \n",
       "2022-08-30   77906200  \n",
       "2022-08-31   87991100  \n",
       "\n",
       "[924 rows x 6 columns]"
      ]
     },
     "execution_count": 56,
     "metadata": {},
     "output_type": "execute_result"
    }
   ],
   "source": [
    "df"
   ]
  },
  {
   "cell_type": "code",
   "execution_count": 57,
   "metadata": {},
   "outputs": [],
   "source": [
    "# 20-day\n",
    "\n",
    "# moving average\n",
    "df['ma_20'] = df.Close.rolling(20).mean()\n",
    "\n",
    "# volatlity or std over the 20 days (rolling)\n",
    "df['vol'] = df.Close.rolling(20).std()\n",
    "\n",
    "# Bollinger Bands\n",
    "df[\"upper_bb\"] = df.ma_20+(2*df.vol)\n",
    "df[\"lower_bb\"] = df.ma_20-(2*df.vol)"
   ]
  },
  {
   "cell_type": "code",
   "execution_count": 19,
   "metadata": {
    "scrolled": true
   },
   "outputs": [
    {
     "data": {
      "text/html": [
       "<div>\n",
       "<style scoped>\n",
       "    .dataframe tbody tr th:only-of-type {\n",
       "        vertical-align: middle;\n",
       "    }\n",
       "\n",
       "    .dataframe tbody tr th {\n",
       "        vertical-align: top;\n",
       "    }\n",
       "\n",
       "    .dataframe thead th {\n",
       "        text-align: right;\n",
       "    }\n",
       "</style>\n",
       "<table border=\"1\" class=\"dataframe\">\n",
       "  <thead>\n",
       "    <tr style=\"text-align: right;\">\n",
       "      <th></th>\n",
       "      <th>Open</th>\n",
       "      <th>High</th>\n",
       "      <th>Low</th>\n",
       "      <th>Close</th>\n",
       "      <th>Adj Close</th>\n",
       "      <th>Volume</th>\n",
       "      <th>ma_20</th>\n",
       "      <th>vol</th>\n",
       "      <th>upper_bb</th>\n",
       "      <th>lower_bb</th>\n",
       "    </tr>\n",
       "    <tr>\n",
       "      <th>Date</th>\n",
       "      <th></th>\n",
       "      <th></th>\n",
       "      <th></th>\n",
       "      <th></th>\n",
       "      <th></th>\n",
       "      <th></th>\n",
       "      <th></th>\n",
       "      <th></th>\n",
       "      <th></th>\n",
       "      <th></th>\n",
       "    </tr>\n",
       "  </thead>\n",
       "  <tbody>\n",
       "    <tr>\n",
       "      <th>2019-01-02</th>\n",
       "      <td>54.099998</td>\n",
       "      <td>57.830002</td>\n",
       "      <td>53.560001</td>\n",
       "      <td>57.200001</td>\n",
       "      <td>57.200001</td>\n",
       "      <td>13434000</td>\n",
       "      <td>NaN</td>\n",
       "      <td>NaN</td>\n",
       "      <td>NaN</td>\n",
       "      <td>NaN</td>\n",
       "    </tr>\n",
       "    <tr>\n",
       "      <th>2019-01-03</th>\n",
       "      <td>55.580002</td>\n",
       "      <td>56.730000</td>\n",
       "      <td>52.259998</td>\n",
       "      <td>52.419998</td>\n",
       "      <td>52.419998</td>\n",
       "      <td>19076300</td>\n",
       "      <td>NaN</td>\n",
       "      <td>NaN</td>\n",
       "      <td>NaN</td>\n",
       "      <td>NaN</td>\n",
       "    </tr>\n",
       "    <tr>\n",
       "      <th>2019-01-04</th>\n",
       "      <td>54.400002</td>\n",
       "      <td>59.660000</td>\n",
       "      <td>53.861000</td>\n",
       "      <td>58.180000</td>\n",
       "      <td>58.180000</td>\n",
       "      <td>30228600</td>\n",
       "      <td>NaN</td>\n",
       "      <td>NaN</td>\n",
       "      <td>NaN</td>\n",
       "      <td>NaN</td>\n",
       "    </tr>\n",
       "    <tr>\n",
       "      <th>2019-01-07</th>\n",
       "      <td>59.000000</td>\n",
       "      <td>61.290001</td>\n",
       "      <td>58.049999</td>\n",
       "      <td>60.720001</td>\n",
       "      <td>60.720001</td>\n",
       "      <td>18146900</td>\n",
       "      <td>NaN</td>\n",
       "      <td>NaN</td>\n",
       "      <td>NaN</td>\n",
       "      <td>NaN</td>\n",
       "    </tr>\n",
       "    <tr>\n",
       "      <th>2019-01-08</th>\n",
       "      <td>62.599998</td>\n",
       "      <td>63.799999</td>\n",
       "      <td>61.150002</td>\n",
       "      <td>63.119999</td>\n",
       "      <td>63.119999</td>\n",
       "      <td>21511800</td>\n",
       "      <td>NaN</td>\n",
       "      <td>NaN</td>\n",
       "      <td>NaN</td>\n",
       "      <td>NaN</td>\n",
       "    </tr>\n",
       "    <tr>\n",
       "      <th>...</th>\n",
       "      <td>...</td>\n",
       "      <td>...</td>\n",
       "      <td>...</td>\n",
       "      <td>...</td>\n",
       "      <td>...</td>\n",
       "      <td>...</td>\n",
       "      <td>...</td>\n",
       "      <td>...</td>\n",
       "      <td>...</td>\n",
       "      <td>...</td>\n",
       "    </tr>\n",
       "    <tr>\n",
       "      <th>2022-08-25</th>\n",
       "      <td>73.150002</td>\n",
       "      <td>74.769997</td>\n",
       "      <td>72.110001</td>\n",
       "      <td>74.629997</td>\n",
       "      <td>74.629997</td>\n",
       "      <td>8979200</td>\n",
       "      <td>81.303999</td>\n",
       "      <td>6.244311</td>\n",
       "      <td>93.792621</td>\n",
       "      <td>68.815378</td>\n",
       "    </tr>\n",
       "    <tr>\n",
       "      <th>2022-08-26</th>\n",
       "      <td>74.320000</td>\n",
       "      <td>74.349998</td>\n",
       "      <td>68.760002</td>\n",
       "      <td>68.870003</td>\n",
       "      <td>68.870003</td>\n",
       "      <td>13750100</td>\n",
       "      <td>80.944500</td>\n",
       "      <td>6.748711</td>\n",
       "      <td>94.441921</td>\n",
       "      <td>67.447078</td>\n",
       "    </tr>\n",
       "    <tr>\n",
       "      <th>2022-08-29</th>\n",
       "      <td>67.589996</td>\n",
       "      <td>69.989998</td>\n",
       "      <td>67.339996</td>\n",
       "      <td>67.750000</td>\n",
       "      <td>67.750000</td>\n",
       "      <td>9590900</td>\n",
       "      <td>80.441500</td>\n",
       "      <td>7.343333</td>\n",
       "      <td>95.128166</td>\n",
       "      <td>65.754833</td>\n",
       "    </tr>\n",
       "    <tr>\n",
       "      <th>2022-08-30</th>\n",
       "      <td>68.599998</td>\n",
       "      <td>70.129997</td>\n",
       "      <td>66.690002</td>\n",
       "      <td>69.050003</td>\n",
       "      <td>69.050003</td>\n",
       "      <td>11902000</td>\n",
       "      <td>79.939500</td>\n",
       "      <td>7.771290</td>\n",
       "      <td>95.482079</td>\n",
       "      <td>64.396921</td>\n",
       "    </tr>\n",
       "    <tr>\n",
       "      <th>2022-08-31</th>\n",
       "      <td>70.589996</td>\n",
       "      <td>71.751999</td>\n",
       "      <td>68.410004</td>\n",
       "      <td>68.910004</td>\n",
       "      <td>68.910004</td>\n",
       "      <td>10039200</td>\n",
       "      <td>78.981500</td>\n",
       "      <td>7.896220</td>\n",
       "      <td>94.773939</td>\n",
       "      <td>63.189061</td>\n",
       "    </tr>\n",
       "  </tbody>\n",
       "</table>\n",
       "<p>924 rows × 10 columns</p>\n",
       "</div>"
      ],
      "text/plain": [
       "                 Open       High        Low      Close  Adj Close    Volume  \\\n",
       "Date                                                                          \n",
       "2019-01-02  54.099998  57.830002  53.560001  57.200001  57.200001  13434000   \n",
       "2019-01-03  55.580002  56.730000  52.259998  52.419998  52.419998  19076300   \n",
       "2019-01-04  54.400002  59.660000  53.861000  58.180000  58.180000  30228600   \n",
       "2019-01-07  59.000000  61.290001  58.049999  60.720001  60.720001  18146900   \n",
       "2019-01-08  62.599998  63.799999  61.150002  63.119999  63.119999  21511800   \n",
       "...               ...        ...        ...        ...        ...       ...   \n",
       "2022-08-25  73.150002  74.769997  72.110001  74.629997  74.629997   8979200   \n",
       "2022-08-26  74.320000  74.349998  68.760002  68.870003  68.870003  13750100   \n",
       "2022-08-29  67.589996  69.989998  67.339996  67.750000  67.750000   9590900   \n",
       "2022-08-30  68.599998  70.129997  66.690002  69.050003  69.050003  11902000   \n",
       "2022-08-31  70.589996  71.751999  68.410004  68.910004  68.910004  10039200   \n",
       "\n",
       "                ma_20       vol   upper_bb   lower_bb  \n",
       "Date                                                   \n",
       "2019-01-02        NaN       NaN        NaN        NaN  \n",
       "2019-01-03        NaN       NaN        NaN        NaN  \n",
       "2019-01-04        NaN       NaN        NaN        NaN  \n",
       "2019-01-07        NaN       NaN        NaN        NaN  \n",
       "2019-01-08        NaN       NaN        NaN        NaN  \n",
       "...               ...       ...        ...        ...  \n",
       "2022-08-25  81.303999  6.244311  93.792621  68.815378  \n",
       "2022-08-26  80.944500  6.748711  94.441921  67.447078  \n",
       "2022-08-29  80.441500  7.343333  95.128166  65.754833  \n",
       "2022-08-30  79.939500  7.771290  95.482079  64.396921  \n",
       "2022-08-31  78.981500  7.896220  94.773939  63.189061  \n",
       "\n",
       "[924 rows x 10 columns]"
      ]
     },
     "execution_count": 19,
     "metadata": {},
     "output_type": "execute_result"
    }
   ],
   "source": [
    "df"
   ]
  },
  {
   "cell_type": "code",
   "execution_count": 58,
   "metadata": {},
   "outputs": [
    {
     "data": {
      "text/plain": [
       "<AxesSubplot:xlabel='Date'>"
      ]
     },
     "execution_count": 58,
     "metadata": {},
     "output_type": "execute_result"
    },
    {
     "data": {
      "image/png": "[encoded data removed]",
      "text/plain": [
       "<Figure size 432x288 with 1 Axes>"
      ]
     },
     "metadata": {
      "needs_background": "light"
     },
     "output_type": "display_data"
    }
   ],
   "source": [
    "df[['Close', \"ma_20\", \"upper_bb\", \"lower_bb\"]].plot()"
   ]
  },
  {
   "cell_type": "code",
   "execution_count": 59,
   "metadata": {},
   "outputs": [],
   "source": [
    "# Relative Strength Index\n",
    "df[\"rsi\"] = ta.momentum.rsi(df.Close, window = 6)"
   ]
  },
  {
   "cell_type": "code",
   "execution_count": 60,
   "metadata": {},
   "outputs": [],
   "source": [
    "# These first two conditions will be the buying conditions\n",
    "# The second two are the selling conditions\n",
    "conditions = [(df.rsi <30) & (df.Close<df.lower_bb),\n",
    "             (df.rsi>70) & (df.Close>df.upper_bb)]"
   ]
  },
  {
   "cell_type": "code",
   "execution_count": 61,
   "metadata": {},
   "outputs": [],
   "source": [
    "choices = ['Buy', \"Sell\"]"
   ]
  },
  {
   "cell_type": "code",
   "execution_count": 62,
   "metadata": {},
   "outputs": [],
   "source": [
    "df['signal'] = np.select(conditions, choices)"
   ]
  },
  {
   "cell_type": "code",
   "execution_count": 63,
   "metadata": {},
   "outputs": [],
   "source": [
    "df.dropna(inplace=True)"
   ]
  },
  {
   "cell_type": "code",
   "execution_count": 64,
   "metadata": {},
   "outputs": [
    {
     "data": {
      "text/html": [
       "<div>\n",
       "<style scoped>\n",
       "    .dataframe tbody tr th:only-of-type {\n",
       "        vertical-align: middle;\n",
       "    }\n",
       "\n",
       "    .dataframe tbody tr th {\n",
       "        vertical-align: top;\n",
       "    }\n",
       "\n",
       "    .dataframe thead th {\n",
       "        text-align: right;\n",
       "    }\n",
       "</style>\n",
       "<table border=\"1\" class=\"dataframe\">\n",
       "  <thead>\n",
       "    <tr style=\"text-align: right;\">\n",
       "      <th></th>\n",
       "      <th>Open</th>\n",
       "      <th>High</th>\n",
       "      <th>Low</th>\n",
       "      <th>Close</th>\n",
       "      <th>Adj Close</th>\n",
       "      <th>Volume</th>\n",
       "      <th>ma_20</th>\n",
       "      <th>vol</th>\n",
       "      <th>upper_bb</th>\n",
       "      <th>lower_bb</th>\n",
       "      <th>rsi</th>\n",
       "      <th>signal</th>\n",
       "    </tr>\n",
       "    <tr>\n",
       "      <th>Date</th>\n",
       "      <th></th>\n",
       "      <th></th>\n",
       "      <th></th>\n",
       "      <th></th>\n",
       "      <th></th>\n",
       "      <th></th>\n",
       "      <th></th>\n",
       "      <th></th>\n",
       "      <th></th>\n",
       "      <th></th>\n",
       "      <th></th>\n",
       "      <th></th>\n",
       "    </tr>\n",
       "  </thead>\n",
       "  <tbody>\n",
       "    <tr>\n",
       "      <th>2019-01-30</th>\n",
       "      <td>40.812500</td>\n",
       "      <td>41.537498</td>\n",
       "      <td>40.057499</td>\n",
       "      <td>41.312500</td>\n",
       "      <td>39.873821</td>\n",
       "      <td>244439200</td>\n",
       "      <td>38.388125</td>\n",
       "      <td>1.164768</td>\n",
       "      <td>40.717661</td>\n",
       "      <td>36.058589</td>\n",
       "      <td>75.163467</td>\n",
       "      <td>Sell</td>\n",
       "    </tr>\n",
       "    <tr>\n",
       "      <th>2019-01-31</th>\n",
       "      <td>41.527500</td>\n",
       "      <td>42.250000</td>\n",
       "      <td>41.139999</td>\n",
       "      <td>41.610001</td>\n",
       "      <td>40.160965</td>\n",
       "      <td>162958400</td>\n",
       "      <td>38.494625</td>\n",
       "      <td>1.352161</td>\n",
       "      <td>41.198947</td>\n",
       "      <td>35.790303</td>\n",
       "      <td>76.744352</td>\n",
       "      <td>Sell</td>\n",
       "    </tr>\n",
       "    <tr>\n",
       "      <th>2019-02-01</th>\n",
       "      <td>41.740002</td>\n",
       "      <td>42.244999</td>\n",
       "      <td>41.482498</td>\n",
       "      <td>41.630001</td>\n",
       "      <td>40.180264</td>\n",
       "      <td>130672400</td>\n",
       "      <td>38.798750</td>\n",
       "      <td>1.338374</td>\n",
       "      <td>41.475498</td>\n",
       "      <td>36.122002</td>\n",
       "      <td>76.863160</td>\n",
       "      <td>Sell</td>\n",
       "    </tr>\n",
       "    <tr>\n",
       "      <th>2019-02-04</th>\n",
       "      <td>41.852501</td>\n",
       "      <td>42.915001</td>\n",
       "      <td>41.820000</td>\n",
       "      <td>42.812500</td>\n",
       "      <td>41.321583</td>\n",
       "      <td>125982000</td>\n",
       "      <td>39.086125</td>\n",
       "      <td>1.547260</td>\n",
       "      <td>42.180645</td>\n",
       "      <td>35.991605</td>\n",
       "      <td>83.018335</td>\n",
       "      <td>Sell</td>\n",
       "    </tr>\n",
       "    <tr>\n",
       "      <th>2019-02-05</th>\n",
       "      <td>43.215000</td>\n",
       "      <td>43.770000</td>\n",
       "      <td>43.087502</td>\n",
       "      <td>43.544998</td>\n",
       "      <td>42.028580</td>\n",
       "      <td>144406400</td>\n",
       "      <td>39.414250</td>\n",
       "      <td>1.759026</td>\n",
       "      <td>42.932301</td>\n",
       "      <td>35.896199</td>\n",
       "      <td>85.822066</td>\n",
       "      <td>Sell</td>\n",
       "    </tr>\n",
       "    <tr>\n",
       "      <th>...</th>\n",
       "      <td>...</td>\n",
       "      <td>...</td>\n",
       "      <td>...</td>\n",
       "      <td>...</td>\n",
       "      <td>...</td>\n",
       "      <td>...</td>\n",
       "      <td>...</td>\n",
       "      <td>...</td>\n",
       "      <td>...</td>\n",
       "      <td>...</td>\n",
       "      <td>...</td>\n",
       "      <td>...</td>\n",
       "    </tr>\n",
       "    <tr>\n",
       "      <th>2022-08-25</th>\n",
       "      <td>168.779999</td>\n",
       "      <td>170.139999</td>\n",
       "      <td>168.350006</td>\n",
       "      <td>170.029999</td>\n",
       "      <td>169.748413</td>\n",
       "      <td>51218200</td>\n",
       "      <td>167.987000</td>\n",
       "      <td>4.228697</td>\n",
       "      <td>176.444395</td>\n",
       "      <td>159.529606</td>\n",
       "      <td>55.631965</td>\n",
       "      <td>0</td>\n",
       "    </tr>\n",
       "    <tr>\n",
       "      <th>2022-08-26</th>\n",
       "      <td>170.570007</td>\n",
       "      <td>171.050003</td>\n",
       "      <td>163.559998</td>\n",
       "      <td>163.619995</td>\n",
       "      <td>163.349014</td>\n",
       "      <td>78961000</td>\n",
       "      <td>168.042500</td>\n",
       "      <td>4.159752</td>\n",
       "      <td>176.362005</td>\n",
       "      <td>159.722996</td>\n",
       "      <td>31.372433</td>\n",
       "      <td>0</td>\n",
       "    </tr>\n",
       "    <tr>\n",
       "      <th>2022-08-29</th>\n",
       "      <td>161.149994</td>\n",
       "      <td>162.899994</td>\n",
       "      <td>159.820007</td>\n",
       "      <td>161.380005</td>\n",
       "      <td>161.112747</td>\n",
       "      <td>73314000</td>\n",
       "      <td>168.036001</td>\n",
       "      <td>4.170584</td>\n",
       "      <td>176.377168</td>\n",
       "      <td>159.694833</td>\n",
       "      <td>26.522445</td>\n",
       "      <td>0</td>\n",
       "    </tr>\n",
       "    <tr>\n",
       "      <th>2022-08-30</th>\n",
       "      <td>162.130005</td>\n",
       "      <td>162.559998</td>\n",
       "      <td>157.720001</td>\n",
       "      <td>158.910004</td>\n",
       "      <td>158.646835</td>\n",
       "      <td>77906200</td>\n",
       "      <td>167.981001</td>\n",
       "      <td>4.287609</td>\n",
       "      <td>176.556219</td>\n",
       "      <td>159.405784</td>\n",
       "      <td>22.018333</td>\n",
       "      <td>Buy</td>\n",
       "    </tr>\n",
       "    <tr>\n",
       "      <th>2022-08-31</th>\n",
       "      <td>160.309998</td>\n",
       "      <td>160.580002</td>\n",
       "      <td>157.139999</td>\n",
       "      <td>157.220001</td>\n",
       "      <td>156.959625</td>\n",
       "      <td>87991100</td>\n",
       "      <td>167.535501</td>\n",
       "      <td>4.908058</td>\n",
       "      <td>177.351618</td>\n",
       "      <td>157.719384</td>\n",
       "      <td>19.323931</td>\n",
       "      <td>Buy</td>\n",
       "    </tr>\n",
       "  </tbody>\n",
       "</table>\n",
       "<p>905 rows × 12 columns</p>\n",
       "</div>"
      ],
      "text/plain": [
       "                  Open        High         Low       Close   Adj Close  \\\n",
       "Date                                                                     \n",
       "2019-01-30   40.812500   41.537498   40.057499   41.312500   39.873821   \n",
       "2019-01-31   41.527500   42.250000   41.139999   41.610001   40.160965   \n",
       "2019-02-01   41.740002   42.244999   41.482498   41.630001   40.180264   \n",
       "2019-02-04   41.852501   42.915001   41.820000   42.812500   41.321583   \n",
       "2019-02-05   43.215000   43.770000   43.087502   43.544998   42.028580   \n",
       "...                ...         ...         ...         ...         ...   \n",
       "2022-08-25  168.779999  170.139999  168.350006  170.029999  169.748413   \n",
       "2022-08-26  170.570007  171.050003  163.559998  163.619995  163.349014   \n",
       "2022-08-29  161.149994  162.899994  159.820007  161.380005  161.112747   \n",
       "2022-08-30  162.130005  162.559998  157.720001  158.910004  158.646835   \n",
       "2022-08-31  160.309998  160.580002  157.139999  157.220001  156.959625   \n",
       "\n",
       "               Volume       ma_20       vol    upper_bb    lower_bb  \\\n",
       "Date                                                                  \n",
       "2019-01-30  244439200   38.388125  1.164768   40.717661   36.058589   \n",
       "2019-01-31  162958400   38.494625  1.352161   41.198947   35.790303   \n",
       "2019-02-01  130672400   38.798750  1.338374   41.475498   36.122002   \n",
       "2019-02-04  125982000   39.086125  1.547260   42.180645   35.991605   \n",
       "2019-02-05  144406400   39.414250  1.759026   42.932301   35.896199   \n",
       "...               ...         ...       ...         ...         ...   \n",
       "2022-08-25   51218200  167.987000  4.228697  176.444395  159.529606   \n",
       "2022-08-26   78961000  168.042500  4.159752  176.362005  159.722996   \n",
       "2022-08-29   73314000  168.036001  4.170584  176.377168  159.694833   \n",
       "2022-08-30   77906200  167.981001  4.287609  176.556219  159.405784   \n",
       "2022-08-31   87991100  167.535501  4.908058  177.351618  157.719384   \n",
       "\n",
       "                  rsi signal  \n",
       "Date                          \n",
       "2019-01-30  75.163467   Sell  \n",
       "2019-01-31  76.744352   Sell  \n",
       "2019-02-01  76.863160   Sell  \n",
       "2019-02-04  83.018335   Sell  \n",
       "2019-02-05  85.822066   Sell  \n",
       "...               ...    ...  \n",
       "2022-08-25  55.631965      0  \n",
       "2022-08-26  31.372433      0  \n",
       "2022-08-29  26.522445      0  \n",
       "2022-08-30  22.018333    Buy  \n",
       "2022-08-31  19.323931    Buy  \n",
       "\n",
       "[905 rows x 12 columns]"
      ]
     },
     "execution_count": 64,
     "metadata": {},
     "output_type": "execute_result"
    }
   ],
   "source": [
    "df"
   ]
  },
  {
   "cell_type": "code",
   "execution_count": 65,
   "metadata": {},
   "outputs": [],
   "source": [
    "# To call on open\n",
    "df.signal = df.signal.shift()"
   ]
  },
  {
   "cell_type": "code",
   "execution_count": 66,
   "metadata": {},
   "outputs": [],
   "source": [
    "position = False\n",
    "buydates, selldates = [],[]\n",
    "buyprices,sellprices = [],[]"
   ]
  },
  {
   "cell_type": "code",
   "execution_count": 67,
   "metadata": {},
   "outputs": [],
   "source": [
    "for index, row in df.iterrows():\n",
    "    if not position and row['signal'] == 'Buy':\n",
    "        buydates.append(index)\n",
    "        buyprices.append(row.Open)\n",
    "        position = True\n",
    "        \n",
    "    if position and row['signal'] == \"Sell\":\n",
    "        selldates.append(index)\n",
    "        sellprices.append(row.Open)\n",
    "        position = False"
   ]
  },
  {
   "cell_type": "code",
   "execution_count": 68,
   "metadata": {},
   "outputs": [
    {
     "data": {
      "text/plain": [
       "<matplotlib.collections.PathCollection at 0x7f7afe672b50>"
      ]
     },
     "execution_count": 68,
     "metadata": {},
     "output_type": "execute_result"
    },
    {
     "data": {
      "image/png": "[encoded data removed]",
      "text/plain": [
       "<Figure size 792x432 with 1 Axes>"
      ]
     },
     "metadata": {
      "needs_background": "light"
     },
     "output_type": "display_data"
    }
   ],
   "source": [
    "plt.figure(figsize=(11,6))\n",
    "plt.plot(df.Close)\n",
    "plt.scatter(df.loc[buydates].index,df.loc[buydates].Close, marker = '^', c = 'g')\n",
    "plt.scatter(df.loc[selldates].index,df.loc[selldates].Close, marker = 'v', c = 'r')"
   ]
  },
  {
   "cell_type": "code",
   "execution_count": 69,
   "metadata": {},
   "outputs": [
    {
     "data": {
      "text/plain": [
       "[0.14747057397307886,\n",
       " 0.14512763408628993,\n",
       " -0.061638204213747765,\n",
       " 0.04193596252768938,\n",
       " 0.005727596831604496,\n",
       " 0.03314114163269581,\n",
       " 0.04132236993545124,\n",
       " -0.003335284845402858]"
      ]
     },
     "execution_count": 69,
     "metadata": {},
     "output_type": "execute_result"
    }
   ],
   "source": [
    "## The last two trades were not ideal\n",
    "[(sell - buy) / buy for sell,buy in zip(sellprices,buyprices)]"
   ]
  },
  {
   "cell_type": "code",
   "execution_count": 70,
   "metadata": {},
   "outputs": [
    {
     "data": {
      "text/plain": [
       "1.385418883690347"
      ]
     },
     "execution_count": 70,
     "metadata": {},
     "output_type": "execute_result"
    }
   ],
   "source": [
    "(pd.Series([(sell - buy) / buy for sell,buy in zip(sellprices,buyprices)])+1).prod()"
   ]
  },
  {
   "cell_type": "code",
   "execution_count": 71,
   "metadata": {},
   "outputs": [
    {
     "data": {
      "text/plain": [
       "0.38541888369034694"
      ]
     },
     "execution_count": 71,
     "metadata": {},
     "output_type": "execute_result"
    }
   ],
   "source": [
    "\n",
    "(pd.Series([(sell - buy) / buy for sell,buy in zip(sellprices,buyprices)])+1).prod()-1"
   ]
  },
  {
   "cell_type": "code",
   "execution_count": null,
   "metadata": {},
   "outputs": [],
   "source": [
    "# we can deal with this using stop losses"
   ]
  },
  {
   "cell_type": "code",
   "execution_count": 72,
   "metadata": {},
   "outputs": [],
   "source": [
    "df['shifted_Close'] = df.Close.shift()"
   ]
  },
  {
   "cell_type": "code",
   "execution_count": 73,
   "metadata": {},
   "outputs": [],
   "source": [
    "for index, row in df.iterrows():\n",
    "    if not position and row['signal'] == 'Buy':\n",
    "        buydates.append(index)\n",
    "        buyprices.append(row.Open)\n",
    "        position = True\n",
    "        \n",
    "    if position:\n",
    "        # this is how we add a stop loss\n",
    "        if row['signal'] == \"Sell\" or row.shifted_Close < 0.95*buyprices[-1]:\n",
    "            selldates.append(index)\n",
    "            sellprices.append(row.Open)\n",
    "            position = False"
   ]
  },
  {
   "cell_type": "code",
   "execution_count": 74,
   "metadata": {},
   "outputs": [
    {
     "data": {
      "text/plain": [
       "<matplotlib.collections.PathCollection at 0x7f7afe59cf10>"
      ]
     },
     "execution_count": 74,
     "metadata": {},
     "output_type": "execute_result"
    },
    {
     "data": {
      "image/png": "[encoded data removed]",
      "text/plain": [
       "<Figure size 792x432 with 1 Axes>"
      ]
     },
     "metadata": {
      "needs_background": "light"
     },
     "output_type": "display_data"
    }
   ],
   "source": [
    "plt.figure(figsize=(11,6))\n",
    "plt.plot(df.Close)\n",
    "plt.scatter(df.loc[buydates].index,df.loc[buydates].Close, marker = '^', c = 'g')\n",
    "plt.scatter(df.loc[selldates].index,df.loc[selldates].Close, marker = 'v', c = 'r')"
   ]
  },
  {
   "cell_type": "code",
   "execution_count": 75,
   "metadata": {},
   "outputs": [
    {
     "data": {
      "text/plain": [
       "0.37201559184720434"
      ]
     },
     "execution_count": 75,
     "metadata": {},
     "output_type": "execute_result"
    }
   ],
   "source": [
    "(pd.Series([(sell - buy) / buy for sell,buy in zip(sellprices,buyprices)])+1).prod()"
   ]
  },
  {
   "cell_type": "code",
   "execution_count": 76,
   "metadata": {},
   "outputs": [
    {
     "data": {
      "text/plain": [
       "-0.6279844081527957"
      ]
     },
     "execution_count": 76,
     "metadata": {},
     "output_type": "execute_result"
    }
   ],
   "source": [
    "(pd.Series([(sell - buy) / buy for sell,buy in zip(sellprices,buyprices)])+1).prod()-1"
   ]
  },
  {
   "cell_type": "code",
   "execution_count": null,
   "metadata": {},
   "outputs": [],
   "source": []
  }
 ],
 "metadata": {
  "kernelspec": {
   "display_name": "Python 3 (ipykernel)",
   "language": "python",
   "name": "python3"
  },
  "language_info": {
   "codemirror_mode": {
    "name": "ipython",
    "version": 3
   },
   "file_extension": ".py",
   "mimetype": "text/x-python",
   "name": "python",
   "nbconvert_exporter": "python",
   "pygments_lexer": "ipython3",
   "version": "3.8.10"
  }
 },
 "nbformat": 4,
 "nbformat_minor": 4
}
